{
 "cells": [
  {
   "cell_type": "markdown",
   "id": "a4b392f3",
   "metadata": {},
   "source": [
    "Matplot Code"
   ]
  },
  {
   "cell_type": "code",
   "execution_count": 1,
   "id": "4a803e31",
   "metadata": {},
   "outputs": [],
   "source": [
    "#required packages\n",
    "import pandas as pd\n",
    "import numpy as np\n",
    "import matplotlib.pyplot as plt"
   ]
  },
  {
   "cell_type": "code",
   "execution_count": 3,
   "id": "e5e29410",
   "metadata": {},
   "outputs": [],
   "source": [
    "#import the data\n",
    "a_w = pd.read_csv('C:\\\\Users\\\\Cathal Keating\\\\Desktop\\\\DataCamp\\\\Matplotlib\\\\austin_weather.csv')\n",
    "s_w = pd.read_csv('C:\\\\Users\\\\Cathal Keating\\\\Desktop\\\\DataCamp\\\\Matplotlib\\\\seattle_weather.csv')\n",
    "c_c = pd.read_csv('C:\\\\Users\\\\Cathal Keating\\\\Desktop\\\\DataCamp\\\\Matplotlib\\\\climate_change.csv')\n",
    "summer2016 = pd.read_csv('C:\\\\Users\\\\Cathal Keating\\\\Desktop\\\\DataCamp\\\\Matplotlib\\\\summer2016.csv')\n",
    "medals = pd.read_csv('C:\\\\Users\\\\Cathal Keating\\\\Desktop\\\\DataCamp\\\\Matplotlib\\\\medals_by_country_2016.csv')"
   ]
  },
  {
   "cell_type": "markdown",
   "id": "1cd07c9c",
   "metadata": {},
   "source": [
    "Method:\n",
    "fig, ax = plt.subplots()"
   ]
  }
 ],
 "metadata": {
  "kernelspec": {
   "display_name": "Python 3",
   "language": "python",
   "name": "python3"
  },
  "language_info": {
   "codemirror_mode": {
    "name": "ipython",
    "version": 3
   },
   "file_extension": ".py",
   "mimetype": "text/x-python",
   "name": "python",
   "nbconvert_exporter": "python",
   "pygments_lexer": "ipython3",
   "version": "3.8.8"
  }
 },
 "nbformat": 4,
 "nbformat_minor": 5
}
