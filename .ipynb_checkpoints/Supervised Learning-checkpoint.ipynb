{
 "cells": [
  {
   "cell_type": "markdown",
   "id": "68f9e186",
   "metadata": {},
   "source": [
    "Supervised Learning\n",
    "Chapter 1"
   ]
  },
  {
   "cell_type": "code",
   "execution_count": 16,
   "id": "bb6d2e2a",
   "metadata": {},
   "outputs": [],
   "source": [
    "#Calling required packages\n",
    "import pandas as pd\n",
    "import numpy as np\n",
    "from sklearn.model_selection import train_test_split\n",
    "import matplotlib.pyplot as plt"
   ]
  },
  {
   "cell_type": "code",
   "execution_count": 4,
   "id": "d04c6431",
   "metadata": {},
   "outputs": [
    {
     "name": "stdout",
     "output_type": "stream",
     "text": [
      "       Unnamed: 0  account_length    area_code  international_plan  \\\n",
      "count  3333.00000     3333.000000  3333.000000         3333.000000   \n",
      "mean   1666.00000      101.064806   437.182418            0.096910   \n",
      "std     962.29855       39.822106    42.371290            0.295879   \n",
      "min       0.00000        1.000000   408.000000            0.000000   \n",
      "25%     833.00000       74.000000   408.000000            0.000000   \n",
      "50%    1666.00000      101.000000   415.000000            0.000000   \n",
      "75%    2499.00000      127.000000   510.000000            0.000000   \n",
      "max    3332.00000      243.000000   510.000000            1.000000   \n",
      "\n",
      "       voice_mail_plan  number_vmail_messages  total_day_minutes  \\\n",
      "count      3333.000000            3333.000000        3333.000000   \n",
      "mean          0.276628               8.099010         179.775098   \n",
      "std           0.447398              13.688365          54.467389   \n",
      "min           0.000000               0.000000           0.000000   \n",
      "25%           0.000000               0.000000         143.700000   \n",
      "50%           0.000000               0.000000         179.400000   \n",
      "75%           1.000000              20.000000         216.400000   \n",
      "max           1.000000              51.000000         350.800000   \n",
      "\n",
      "       total_day_calls  total_day_charge  total_eve_minutes  total_eve_calls  \\\n",
      "count      3333.000000       3333.000000        3333.000000      3333.000000   \n",
      "mean        100.435644         30.562307         200.980348       100.114311   \n",
      "std          20.069084          9.259435          50.713844        19.922625   \n",
      "min           0.000000          0.000000           0.000000         0.000000   \n",
      "25%          87.000000         24.430000         166.600000        87.000000   \n",
      "50%         101.000000         30.500000         201.400000       100.000000   \n",
      "75%         114.000000         36.790000         235.300000       114.000000   \n",
      "max         165.000000         59.640000         363.700000       170.000000   \n",
      "\n",
      "       total_eve_charge  total_night_minutes  total_night_calls  \\\n",
      "count       3333.000000          3333.000000        3333.000000   \n",
      "mean          17.083540           200.872037         100.107711   \n",
      "std            4.310668            50.573847          19.568609   \n",
      "min            0.000000            23.200000          33.000000   \n",
      "25%           14.160000           167.000000          87.000000   \n",
      "50%           17.120000           201.200000         100.000000   \n",
      "75%           20.000000           235.300000         113.000000   \n",
      "max           30.910000           395.000000         175.000000   \n",
      "\n",
      "       total_night_charge  total_intl_minutes  total_intl_calls  \\\n",
      "count         3333.000000         3333.000000       3333.000000   \n",
      "mean             9.039325           10.237294          4.479448   \n",
      "std              2.275873            2.791840          2.461214   \n",
      "min              1.040000            0.000000          0.000000   \n",
      "25%              7.520000            8.500000          3.000000   \n",
      "50%              9.050000           10.300000          4.000000   \n",
      "75%             10.590000           12.100000          6.000000   \n",
      "max             17.770000           20.000000         20.000000   \n",
      "\n",
      "       total_intl_charge  customer_service_calls        churn  \n",
      "count        3333.000000             3333.000000  3333.000000  \n",
      "mean            2.764581                1.562856     0.144914  \n",
      "std             0.753773                1.315491     0.352067  \n",
      "min             0.000000                0.000000     0.000000  \n",
      "25%             2.300000                1.000000     0.000000  \n",
      "50%             2.780000                1.000000     0.000000  \n",
      "75%             3.270000                2.000000     0.000000  \n",
      "max             5.400000                9.000000     1.000000  \n"
     ]
    }
   ],
   "source": [
    "#Reading in the required data\n",
    "directory = 'C:\\\\Users\\\\Cathal Keating\\\\Desktop\\\\DataCamp\\\\Supervised Learning\\\\'\n",
    "churn_df = pd.read_csv(directory + 'telecom_churn_clean.csv')\n",
    "\n",
    "print(churn_df.describe())"
   ]
  },
  {
   "cell_type": "markdown",
   "id": "10bc8c41",
   "metadata": {},
   "source": [
    "The syntax works like this:\n",
    "1. Import the model needed from sklearn\n",
    "from sklearn.module import Model\n",
    "2. Set the model\n",
    "model = model()\n",
    "3.Fit the model\n",
    "model.fit(X, y)\n",
    "4. Run the predictions\n",
    "predictions = model.predict(x_new)\n",
    "5. Print the predictions\n",
    "print(predictions)\n"
   ]
  },
  {
   "cell_type": "code",
   "execution_count": 9,
   "id": "627b06ba",
   "metadata": {},
   "outputs": [
    {
     "name": "stdout",
     "output_type": "stream",
     "text": [
      "Predictions: [1 0 0]\n"
     ]
    }
   ],
   "source": [
    "#K Nearest Neighbours Example:\n",
    "#Calling the KNN model\n",
    "from sklearn.neighbors import KNeighborsClassifier\n",
    "#Extract the independent (X) and depented (y) variables for the dataframe and convert into numpy array\n",
    "X = churn_df[['total_day_charge', 'total_eve_charge']].values\n",
    "#print(X[:, 0:4])\n",
    "y = churn_df['churn'].values\n",
    "#print(X.shape, y.shape)\n",
    "#Setting the model\n",
    "knn = KNeighborsClassifier(n_neighbors=15)\n",
    "#Fit to the data\n",
    "knn.fit(X, y)\n",
    "#Creating the new data to predict off\n",
    "X_new = np.array([[56.8, 17.5], [24.4, 24.1], [50.1, 10.9]])\n",
    "#Run the prediction\n",
    "predictions = knn.predict(X_new)\n",
    "print('Predictions: {}'.format(predictions))\n"
   ]
  },
  {
   "cell_type": "markdown",
   "id": "a84f4ea5",
   "metadata": {},
   "source": [
    "Running the models is fine but are they accurate?\n",
    "To access accuracy we need to calc the following:\n",
    "\n",
    "accuracy = correct predictions / total observations\n",
    "\n",
    "to do this we split the data set into training and testing set\n",
    "Run the model on the training set\n",
    "Apply to the test set\n",
    "Then check the accuracy of this test set"
   ]
  },
  {
   "cell_type": "code",
   "execution_count": 11,
   "id": "2d1e9731",
   "metadata": {},
   "outputs": [
    {
     "name": "stdout",
     "output_type": "stream",
     "text": [
      "0.872\n"
     ]
    }
   ],
   "source": [
    "#Split the data\n",
    "X_train, X_test, y_train, y_test = train_test_split(X, y, test_size=0.3, random_state=21, stratify=y)\n",
    "#set the model\n",
    "knn = KNeighborsClassifier(n_neighbors=6)\n",
    "#Fit the model to the train data\n",
    "knn.fit(X_train, y_train)\n",
    "#calculate the accuracy on the test data\n",
    "print(knn.score(X_test, y_test))"
   ]
  },
  {
   "cell_type": "code",
   "execution_count": 14,
   "id": "0d42a6be",
   "metadata": {},
   "outputs": [],
   "source": [
    "#Lets vary n_neighbors and see what happens:\n",
    "#set up the dictionaries\n",
    "train_accuracies = {}\n",
    "test_accuracies = {}\n",
    "#list the neighbors to test\n",
    "neighbors = np.arange(1, 26)\n",
    "#loop through and record the accuracy\n",
    "for neighbor in neighbors:\n",
    "    knn = KNeighborsClassifier(n_neighbors = neighbor)\n",
    "    knn.fit(X_train, y_train)\n",
    "    train_accuracies[neighbor] = knn.score(X_train, y_train)\n",
    "    test_accuracies[neighbor] = knn.score(X_test, y_test)"
   ]
  },
  {
   "cell_type": "code",
   "execution_count": 17,
   "id": "38b60150",
   "metadata": {},
   "outputs": [
    {
     "data": {
      "image/png": "[encoded data removed]",
      "text/plain": [
       "<Figure size 576x432 with 1 Axes>"
      ]
     },
     "metadata": {
      "needs_background": "light"
     },
     "output_type": "display_data"
    }
   ],
   "source": [
    "#lets plot these accuracies\n",
    "plt.figure(figsize=(8, 6))\n",
    "plt.title(\"KNN: Varying Number of Neighbors\")\n",
    "plt.plot(neighbors, train_accuracies.values(), label=\"Training Accuracy\")\n",
    "plt.plot(neighbors, test_accuracies.values(), label=\"Testing Accuracy\")\n",
    "plt.legend()\n",
    "plt.xlabel(\"Number of Neighbors\")\n",
    "plt.ylabel(\"Accuracy\")\n",
    "plt.show()"
   ]
  },
  {
   "cell_type": "code",
   "execution_count": 18,
   "id": "42cdaccf",
   "metadata": {},
   "outputs": [
    {
     "name": "stdout",
     "output_type": "stream",
     "text": [
      "[ 1  2  3  4  5  6  7  8  9 10 11 12 13 14 15 16 17 18 19 20 21 22 23 24\n",
      " 25] \n",
      " {1: 1.0, 2: 0.9061294470638662, 3: 0.9048435490784398, 4: 0.8911273039005573, 5: 0.8906986712387484, 6: 0.8851264466352337, 7: 0.8829832833261895, 8: 0.8825546506643807, 9: 0.8834119159879983, 10: 0.8825546506643807, 11: 0.8812687526789541, 12: 0.8804114873553365, 13: 0.8816973853407629, 14: 0.8799828546935277, 15: 0.8834119159879983, 16: 0.8812687526789541, 17: 0.8808401200171453, 18: 0.8795542220317188, 19: 0.8786969567081011, 20: 0.8808401200171453, 21: 0.8808401200171453, 22: 0.8782683240462923, 23: 0.8821260180025718, 24: 0.8774110587226747, 25: 0.8812687526789541} \n",
      " {1: 0.807, 2: 0.871, 3: 0.855, 4: 0.873, 5: 0.867, 6: 0.872, 7: 0.875, 8: 0.876, 9: 0.88, 10: 0.878, 11: 0.878, 12: 0.877, 13: 0.878, 14: 0.877, 15: 0.879, 16: 0.881, 17: 0.879, 18: 0.876, 19: 0.878, 20: 0.877, 21: 0.876, 22: 0.877, 23: 0.881, 24: 0.879, 25: 0.88}\n"
     ]
    }
   ],
   "source": [
    "#same as above just in a table\n",
    "print(neighbors, '\\n', train_accuracies, '\\n', test_accuracies)"
   ]
  },
  {
   "cell_type": "markdown",
   "id": "a9e4d2da",
   "metadata": {},
   "source": [
    "Chapter 2 Regeression"
   ]
  },
  {
   "cell_type": "code",
   "execution_count": 20,
   "id": "e450deec",
   "metadata": {},
   "outputs": [
    {
     "name": "stdout",
     "output_type": "stream",
     "text": [
      "   pregnancies  glucose  diastolic  triceps  insulin   bmi    dpf  age  \\\n",
      "0            6      148         72       35        0  33.6  0.627   50   \n",
      "1            1       85         66       29        0  26.6  0.351   31   \n",
      "2            8      183         64        0        0  23.3  0.672   32   \n",
      "3            1       89         66       23       94  28.1  0.167   21   \n",
      "4            0      137         40       35      168  43.1  2.288   33   \n",
      "\n",
      "   diabetes  \n",
      "0         1  \n",
      "1         0  \n",
      "2         1  \n",
      "3         0  \n",
      "4         1  \n",
      "       pregnancies     glucose   diastolic     triceps     insulin  \\\n",
      "count   768.000000  768.000000  768.000000  768.000000  768.000000   \n",
      "mean      3.845052  120.894531   69.105469   20.536458   79.799479   \n",
      "std       3.369578   31.972618   19.355807   15.952218  115.244002   \n",
      "min       0.000000    0.000000    0.000000    0.000000    0.000000   \n",
      "25%       1.000000   99.000000   62.000000    0.000000    0.000000   \n",
      "50%       3.000000  117.000000   72.000000   23.000000   30.500000   \n",
      "75%       6.000000  140.250000   80.000000   32.000000  127.250000   \n",
      "max      17.000000  199.000000  122.000000   99.000000  846.000000   \n",
      "\n",
      "              bmi         dpf         age    diabetes  \n",
      "count  768.000000  768.000000  768.000000  768.000000  \n",
      "mean    31.992578    0.471876   33.240885    0.348958  \n",
      "std      7.884160    0.331329   11.760232    0.476951  \n",
      "min      0.000000    0.078000   21.000000    0.000000  \n",
      "25%     27.300000    0.243750   24.000000    0.000000  \n",
      "50%     32.000000    0.372500   29.000000    0.000000  \n",
      "75%     36.600000    0.626250   41.000000    1.000000  \n",
      "max     67.100000    2.420000   81.000000    1.000000  \n",
      "Index(['pregnancies', 'glucose', 'diastolic', 'triceps', 'insulin', 'bmi',\n",
      "       'dpf', 'age', 'diabetes'],\n",
      "      dtype='object')\n"
     ]
    }
   ],
   "source": [
    "#Reading in the required data\n",
    "diabetes_df = pd.read_csv(directory + 'diabetes_clean.csv')\n",
    "print(diabetes_df.head())\n",
    "print(diabetes_df.describe())\n",
    "print(diabetes_df.columns)"
   ]
  },
  {
   "cell_type": "code",
   "execution_count": 23,
   "id": "727f6a5c",
   "metadata": {},
   "outputs": [
    {
     "name": "stdout",
     "output_type": "stream",
     "text": [
      "(768, 8) (768,)\n"
     ]
    }
   ],
   "source": [
    "#Remeber we need to creat our independent and dependent variables\n",
    "#Independent variable (the one we are trying to predict) is blood glucose level:\n",
    "y = diabetes_df['glucose'].values #.values to convert to numpy array\n",
    "#Our dependent varaibles is everything else so drop glucose\n",
    "X = diabetes_df.drop('glucose', axis = 1).values\n",
    "#have a quick look\n",
    "#print(X)\n",
    "#print(y)\n",
    "print(X.shape, y.shape)"
   ]
  },
  {
   "cell_type": "code",
   "execution_count": 32,
   "id": "92c2b77a",
   "metadata": {},
   "outputs": [
    {
     "name": "stdout",
     "output_type": "stream",
     "text": [
      "(768,) (768,)\n",
      "(768, 1)\n"
     ]
    }
   ],
   "source": [
    "#First example is making a prediction just based on BMI\n",
    "#Extracing BMI from x\n",
    "#The code is wrong - says 3 but should be 4\n",
    "#Think this might be to do with the order I dropped glucose in\n",
    "X_bmi = X[:, 4]\n",
    "print(X_bmi.shape, y.shape)\n",
    "#shapes are off - need to look into this\n",
    "#Reshape X_bmi\n",
    "X_bmi = X_bmi.reshape(-1, 1)\n",
    "print(X_bmi.shape)"
   ]
  },
  {
   "cell_type": "code",
   "execution_count": 33,
   "id": "763ba4b5",
   "metadata": {},
   "outputs": [
    {
     "data": {
      "image/png": "[encoded data removed]",
      "text/plain": [
       "<Figure size 432x288 with 1 Axes>"
      ]
     },
     "metadata": {
      "needs_background": "light"
     },
     "output_type": "display_data"
    }
   ],
   "source": [
    "#Initial look at the relationship:\n",
    "plt.scatter(X_bmi, y)\n",
    "plt.ylabel(\"Blood Glucose (mg/dl)\")\n",
    "plt.xlabel(\"Body Mass Index\")\n",
    "plt.show()\n",
    "#There are a few 0's here that I am not comfortable with"
   ]
  },
  {
   "cell_type": "code",
   "execution_count": 34,
   "id": "50ef5774",
   "metadata": {},
   "outputs": [],
   "source": [
    "#lets fit our regression\n",
    "#remeber the steps - import package - set model - fit model - make the prediction\n",
    "from sklearn.linear_model import LinearRegression\n",
    "reg = LinearRegression()\n",
    "reg.fit(X_bmi, y)\n",
    "predictions = reg.predict(X_bmi)"
   ]
  },
  {
   "cell_type": "code",
   "execution_count": 37,
   "id": "85966bd1",
   "metadata": {},
   "outputs": [
    {
     "data": {
      "image/png": "[encoded data removed]",
      "text/plain": [
       "<Figure size 432x288 with 1 Axes>"
      ]
     },
     "metadata": {
      "needs_background": "light"
     },
     "output_type": "display_data"
    }
   ],
   "source": [
    "plt.scatter(X_bmi, y)\n",
    "plt.plot(X_bmi, predictions) #for each bmi plot the predicted glucose\n",
    "plt.ylabel(\"Blood Glucose (mg/dl)\")\n",
    "plt.xlabel(\"Body Mass Index\")\n",
    "plt.show()"
   ]
  },
  {
   "cell_type": "code",
   "execution_count": 40,
   "id": "c0ecf055",
   "metadata": {},
   "outputs": [
    {
     "name": "stdout",
     "output_type": "stream",
     "text": [
      "[119.91303675  95.70325357 104.63962314 114.05040231 118.58321727\n",
      " 127.12240463 101.32326148 109.68914522 114.03971568 123.60324707\n",
      " 124.99713549 112.30131897 151.83921306 120.08016862  99.38245855\n",
      " 137.26590828  98.92170524 103.54780373 124.48277405 138.98291632\n",
      " 114.94730968 108.01568548  94.81640369 104.61880645 115.5808436\n",
      " 129.44870188  94.22207529 105.35660341 135.62224377 116.96796741\n",
      " 132.2906766  152.69963123 149.45755335 128.2848374  129.10818568\n",
      " 144.78293146 112.09337022 133.52916199 113.45464867 126.11093124\n",
      " 102.62046077 120.53135451 114.54168207 137.65315875 107.95068535\n",
      " 148.70812727 155.6870585   98.79913503 121.11416209 145.42843867\n",
      "  94.44116407 150.979827   164.44641014 133.12283053 116.16435787\n",
      " 100.29525093 120.43548843  86.16602491 110.89528052 136.71958446\n",
      " 129.92989495 100.63738165 150.5625166  162.71481898 111.44659132\n",
      "  93.97800499  97.23726423 147.29609874 108.16823291 177.09990371\n",
      " 134.07657778 105.99534102 116.13294836 130.57323796 106.06582896\n",
      " 116.53796651 118.47311881 111.76490739 114.31707902 114.15104137\n",
      " 135.94796582 125.54250814 106.41970459 111.72386663 112.83226823\n",
      " 149.96038559 128.27184179 148.03773674  99.44593079 104.789798\n",
      " 106.07879003 113.63169101  85.79085254 124.98655686 113.70442546\n",
      " 101.25281059 111.2065448  106.75328439 171.51992298 115.5419103\n",
      " 110.18864475 105.22781715 146.25258471 118.25278096 139.9754167\n",
      " 113.0118953  106.5231132  144.68168421 138.13648932 135.76787401\n",
      "  96.73638915 107.49676902  87.30515945 150.03068179 116.71866918\n",
      "  96.09926054 119.5876649  110.08337803 106.20410747  97.95583123\n",
      " 102.1347272   99.44404576 120.95065639 110.82831989 103.27619301\n",
      " 120.71279066 113.55351619 153.89480605 134.63811075 108.51985782\n",
      " 133.98064489 153.55772368 122.50628004 138.28341749 154.73695825\n",
      " 109.38518168 132.36004146 148.05761408 149.08501227  99.16506349\n",
      "  97.11275203 103.5571977  107.74431951 140.74018381 107.77388446\n",
      " 104.60756789 133.12715254  97.2083769  100.77052522 143.20278488\n",
      " 107.06460747 122.18306096 153.96296733 106.16557612  86.82558036\n",
      " 139.7887879  106.04818258 116.72330355 167.15923314 111.98545255\n",
      " 121.7234999  142.09614569 108.26845728 100.63760652 102.1710203\n",
      " 138.15995583 104.46184363 108.91612334 117.70752304 139.00020826\n",
      " 110.84410623 138.90228298 134.72954809 133.10633572 153.4156024\n",
      " 117.40196966 114.00695015 115.28467798 149.54140661 141.55515732\n",
      " 120.58748803 125.24727027 115.88212152 127.72738771 149.81807118\n",
      " 103.89949684 110.60856046 113.68875842 142.43909774 120.11438927\n",
      " 126.08974185 106.77569583 120.89103618 128.68964601 107.4707317\n",
      " 111.47351361  91.74286871 103.66490164 132.49739134 142.7376776\n",
      " 110.90414169 103.41058897 134.89255568 131.66004729 119.35468416\n",
      " 110.42170788  97.42853202  99.14539627 153.91587951 133.17631127\n",
      " 121.26759311 110.64375858  98.07728346 110.30367026 147.75411101\n",
      " 108.26654742 170.72688785 139.33363725 111.46925871 111.92138507\n",
      " 133.19858826 112.44202503 102.87949625 108.31929048 105.26632715\n",
      " 105.39889117 121.31579719 130.32467534 120.4489214  105.15301598\n",
      " 102.21903273]\n"
     ]
    }
   ],
   "source": [
    "#Lets preform a similar analysis but instead of just using BMI lets fit all parameters\n",
    "#remeber the steps - import package - set model - fit model - make the prediction\n",
    "from sklearn.linear_model import LinearRegression\n",
    "#Just need to split the data\n",
    "X_train, X_test, y_train, y_test = train_test_split(X, y, test_size=0.3, random_state=42)\n",
    "\n",
    "reg_all = LinearRegression()\n",
    "reg_all.fit(X_train, y_train)\n",
    "y_pred = reg_all.predict(X_test)\n",
    "\n",
    "print(y_pred)"
   ]
  },
  {
   "cell_type": "code",
   "execution_count": 44,
   "id": "53bc9574",
   "metadata": {},
   "outputs": [
    {
     "name": "stdout",
     "output_type": "stream",
     "text": [
      "0.2828046881037516\n",
      "26.341459582232257\n",
      "Predictions: [119.91303675  95.70325357 104.63962314 114.05040231 118.58321727\n",
      " 127.12240463 101.32326148 109.68914522 114.03971568 123.60324707\n",
      " 124.99713549 112.30131897 151.83921306 120.08016862  99.38245855\n",
      " 137.26590828  98.92170524 103.54780373 124.48277405 138.98291632\n",
      " 114.94730968 108.01568548  94.81640369 104.61880645 115.5808436\n",
      " 129.44870188  94.22207529 105.35660341 135.62224377 116.96796741\n",
      " 132.2906766  152.69963123 149.45755335 128.2848374  129.10818568\n",
      " 144.78293146 112.09337022 133.52916199 113.45464867 126.11093124\n",
      " 102.62046077 120.53135451 114.54168207 137.65315875 107.95068535\n",
      " 148.70812727 155.6870585   98.79913503 121.11416209 145.42843867\n",
      "  94.44116407 150.979827   164.44641014 133.12283053 116.16435787\n",
      " 100.29525093 120.43548843  86.16602491 110.89528052 136.71958446\n",
      " 129.92989495 100.63738165 150.5625166  162.71481898 111.44659132\n",
      "  93.97800499  97.23726423 147.29609874 108.16823291 177.09990371\n",
      " 134.07657778 105.99534102 116.13294836 130.57323796 106.06582896\n",
      " 116.53796651 118.47311881 111.76490739 114.31707902 114.15104137\n",
      " 135.94796582 125.54250814 106.41970459 111.72386663 112.83226823\n",
      " 149.96038559 128.27184179 148.03773674  99.44593079 104.789798\n",
      " 106.07879003 113.63169101  85.79085254 124.98655686 113.70442546\n",
      " 101.25281059 111.2065448  106.75328439 171.51992298 115.5419103\n",
      " 110.18864475 105.22781715 146.25258471 118.25278096 139.9754167\n",
      " 113.0118953  106.5231132  144.68168421 138.13648932 135.76787401\n",
      "  96.73638915 107.49676902  87.30515945 150.03068179 116.71866918\n",
      "  96.09926054 119.5876649  110.08337803 106.20410747  97.95583123\n",
      " 102.1347272   99.44404576 120.95065639 110.82831989 103.27619301\n",
      " 120.71279066 113.55351619 153.89480605 134.63811075 108.51985782\n",
      " 133.98064489 153.55772368 122.50628004 138.28341749 154.73695825\n",
      " 109.38518168 132.36004146 148.05761408 149.08501227  99.16506349\n",
      "  97.11275203 103.5571977  107.74431951 140.74018381 107.77388446\n",
      " 104.60756789 133.12715254  97.2083769  100.77052522 143.20278488\n",
      " 107.06460747 122.18306096 153.96296733 106.16557612  86.82558036\n",
      " 139.7887879  106.04818258 116.72330355 167.15923314 111.98545255\n",
      " 121.7234999  142.09614569 108.26845728 100.63760652 102.1710203\n",
      " 138.15995583 104.46184363 108.91612334 117.70752304 139.00020826\n",
      " 110.84410623 138.90228298 134.72954809 133.10633572 153.4156024\n",
      " 117.40196966 114.00695015 115.28467798 149.54140661 141.55515732\n",
      " 120.58748803 125.24727027 115.88212152 127.72738771 149.81807118\n",
      " 103.89949684 110.60856046 113.68875842 142.43909774 120.11438927\n",
      " 126.08974185 106.77569583 120.89103618 128.68964601 107.4707317\n",
      " 111.47351361  91.74286871 103.66490164 132.49739134 142.7376776\n",
      " 110.90414169 103.41058897 134.89255568 131.66004729 119.35468416\n",
      " 110.42170788  97.42853202  99.14539627 153.91587951 133.17631127\n",
      " 121.26759311 110.64375858  98.07728346 110.30367026 147.75411101\n",
      " 108.26654742 170.72688785 139.33363725 111.46925871 111.92138507\n",
      " 133.19858826 112.44202503 102.87949625 108.31929048 105.26632715\n",
      " 105.39889117 121.31579719 130.32467534 120.4489214  105.15301598\n",
      " 102.21903273], Actual Values: [ 98 112 108 107 136 103  71 117 154 147 111 179 148  96  88 125  84  86\n",
      " 183 140 104  88 106  96 129 184 109 100 102  89 162 146 184 167 109 152\n",
      " 197 109 121 131  85 135 109 104  92 158 111  95 112 173  94 145 140 134\n",
      " 139  74 158  80 121 168 154 122 129  92  84 147  81 137 104 172 150  83\n",
      "  91  95 103 103 105  96 117 110 159 104  75 135 119 187 152 124  99  87\n",
      "  93  92  74 120 123 144 106  83 177  62 164  78 126 146 158 112 141 173\n",
      "  80 109  97 175 105 167 112 124 162 110  91 115 105 100 119  90 151 101\n",
      " 115 155 135 189 183 151 109 136 181 102 120 158 150  68 112  90 139 139\n",
      "  93  84  85  73 112 165  77  95 146  74  84 112 139 161 134 130 132 161\n",
      " 108  80  87 171  88 146 191 122 159 100 123 123 155 102 125 100 104 131\n",
      " 145 152 100 147 128 100  80  84 194 123  78 106 129 129  61  81 102  99\n",
      " 107 170  85 102  97 127 133  94  83 123 187 152 129 106 111 111 143 124\n",
      " 165 108 137 179 171  83 101 120  89 129 119 109 127 105  77]\n"
     ]
    }
   ],
   "source": [
    "#Lets test the accuracy\n",
    "#For a linear regression - using teh .score method give an R Squared value\n",
    "print(reg_all.score(X_test, y_test))\n",
    "\n",
    "#For regression we can also look a the MSE (Mean square error) and the RMSE (root)\n",
    "from sklearn.metrics import mean_squared_error\n",
    "print(mean_squared_error(y_test, y_pred, squared=False))\n",
    "\n",
    "#Little extra to look at teh predictions vs the actual values\n",
    "#print(\"Predictions: {}, Actual Values: {}\".format(y_pred[:2], y_test[:2]))\n",
    "print(\"Predictions: {}, Actual Values: {}\".format(y_pred, y_test))"
   ]
  },
  {
   "cell_type": "markdown",
   "id": "06cc1e41",
   "metadata": {},
   "source": [
    "Cross validation\n",
    "The problem is in the way you split the data, it could lead to inaccuracies due to specific data points\n",
    "split into 5 folds say\n",
    "save fold1 as you test and the rest as your training\n",
    "fit model and compute metric of interest\n",
    "move on to the next fold and repeat\n"
   ]
  },
  {
   "cell_type": "code",
   "execution_count": 45,
   "id": "e4f5ce4b",
   "metadata": {},
   "outputs": [
    {
     "name": "stdout",
     "output_type": "stream",
     "text": [
      "[0.26207548 0.28228176 0.41203082 0.23785884 0.41634629 0.30398869]\n"
     ]
    }
   ],
   "source": [
    "#required package:\n",
    "from sklearn.model_selection import cross_val_score, KFold\n",
    "#set up your folds - we will pick 6\n",
    "kf = KFold(n_splits=6, shuffle = True, random_state=42)\n",
    "#set the model\n",
    "reg = LinearRegression()\n",
    "#Generate the cross val results\n",
    "cv_results = cross_val_score(reg, X, y, cv=kf)\n",
    "print(cv_results)"
   ]
  },
  {
   "cell_type": "markdown",
   "id": "13796ca2",
   "metadata": {},
   "source": [
    "We are going to now look at two methods of regularised regression\n",
    "this is where we scale the coefficents so that no one coefficent will skew results"
   ]
  },
  {
   "cell_type": "code",
   "execution_count": 46,
   "id": "4aca3d6e",
   "metadata": {},
   "outputs": [
    {
     "name": "stdout",
     "output_type": "stream",
     "text": [
      "[0.282846662322222, 0.28320633574804754, 0.2853307470556381, 0.26423984812668133, 0.1929242469410093]\n"
     ]
    }
   ],
   "source": [
    "#Ridge regression\n",
    "#This is OLS + alpha * sum of squares\n",
    "#we pick alpha\n",
    "#similar set up to usual regression:\n",
    "#Pick your package and model\n",
    "from sklearn.linear_model import Ridge\n",
    "#create a list to hold our R2 values\n",
    "scores = []\n",
    "#going to loop through various alphas\n",
    "\n",
    "for alpha in [0.1, 1.0, 10.3, 100.0, 1000.0]:\n",
    "    #set the model\n",
    "    ridge = Ridge(alpha = alpha)\n",
    "    #fit the model on teh training data\n",
    "    ridge.fit(X_train, y_train)\n",
    "    #predict on the test data (I dont think this is needed)\n",
    "    y_pred = ridge.predict(X_test)\n",
    "    #add the R2 value to the list scores\n",
    "    scores.append(ridge.score(X_test, y_test))\n",
    "    \n",
    "print(scores)"
   ]
  },
  {
   "cell_type": "code",
   "execution_count": null,
   "id": "fd94d725",
   "metadata": {},
   "outputs": [],
   "source": []
  }
 ],
 "metadata": {
  "kernelspec": {
   "display_name": "Python 3",
   "language": "python",
   "name": "python3"
  },
  "language_info": {
   "codemirror_mode": {
    "name": "ipython",
    "version": 3
   },
   "file_extension": ".py",
   "mimetype": "text/x-python",
   "name": "python",
   "nbconvert_exporter": "python",
   "pygments_lexer": "ipython3",
   "version": "3.8.8"
  }
 },
 "nbformat": 4,
 "nbformat_minor": 5
}
