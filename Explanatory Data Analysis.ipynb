{
 "cells": [
  {
   "cell_type": "markdown",
   "id": "9ee61175",
   "metadata": {},
   "source": [
    "Explantory Data Analysis"
   ]
  },
  {
   "cell_type": "code",
   "execution_count": 13,
   "id": "70b3a826",
   "metadata": {},
   "outputs": [
    {
     "ename": "ModuleNotFoundError",
     "evalue": "No module named 'empiricaldist'",
     "output_type": "error",
     "traceback": [
      "\u001b[1;31m---------------------------------------------------------------------------\u001b[0m",
      "\u001b[1;31mModuleNotFoundError\u001b[0m                       Traceback (most recent call last)",
      "\u001b[1;32m<ipython-input-13-45fbc5d484b6>\u001b[0m in \u001b[0;36m<module>\u001b[1;34m\u001b[0m\n\u001b[0;32m      3\u001b[0m \u001b[1;32mimport\u001b[0m \u001b[0mnumpy\u001b[0m \u001b[1;32mas\u001b[0m \u001b[0mnp\u001b[0m\u001b[1;33m\u001b[0m\u001b[1;33m\u001b[0m\u001b[0m\n\u001b[0;32m      4\u001b[0m \u001b[1;32mimport\u001b[0m \u001b[0mmatplotlib\u001b[0m\u001b[1;33m.\u001b[0m\u001b[0mpyplot\u001b[0m \u001b[1;32mas\u001b[0m \u001b[0mplt\u001b[0m\u001b[1;33m\u001b[0m\u001b[1;33m\u001b[0m\u001b[0m\n\u001b[1;32m----> 5\u001b[1;33m \u001b[1;32mimport\u001b[0m \u001b[0mempiricaldist\u001b[0m\u001b[1;33m\u001b[0m\u001b[1;33m\u001b[0m\u001b[0m\n\u001b[0m",
      "\u001b[1;31mModuleNotFoundError\u001b[0m: No module named 'empiricaldist'"
     ]
    }
   ],
   "source": [
    "#Required packages\n",
    "import pandas as pd\n",
    "import numpy as np\n",
    "import matplotlib.pyplot as plt\n",
    "#import empiricaldist"
   ]
  },
  {
   "cell_type": "code",
   "execution_count": 2,
   "id": "8426127b",
   "metadata": {},
   "outputs": [
    {
     "name": "stdout",
     "output_type": "stream",
     "text": [
      "<class 'pandas.core.frame.DataFrame'>\n"
     ]
    }
   ],
   "source": [
    "#PART1\n",
    "#Here we  will read in the data in to a pd data frame\n",
    "nsfg = pd.read_hdf(\"C:\\\\Users\\\\Cathal Keating\\\\Desktop\\\\DataCamp\\\\Exploratory Data Analysis\\\\nsfg.hdf5\", 'nsfg')\n",
    "#Just checking all looks good\n",
    "print(type(nsfg))"
   ]
  },
  {
   "cell_type": "code",
   "execution_count": 3,
   "id": "c2fd60d8",
   "metadata": {},
   "outputs": [
    {
     "name": "stdout",
     "output_type": "stream",
     "text": [
      "(9358, 10)\n",
      "Index(['caseid', 'outcome', 'birthwgt_lb1', 'birthwgt_oz1', 'prglngth',\n",
      "       'nbrnaliv', 'agecon', 'agepreg', 'hpagelb', 'wgt2013_2015'],\n",
      "      dtype='object')\n"
     ]
    }
   ],
   "source": [
    "#We can check a few initial things:\n",
    "print(nsfg.shape)\n",
    "print(nsfg.columns)"
   ]
  },
  {
   "cell_type": "code",
   "execution_count": 5,
   "id": "e0f09e8e",
   "metadata": {},
   "outputs": [
    {
     "name": "stdout",
     "output_type": "stream",
     "text": [
      "0.0        6\n",
      "1.0       34\n",
      "2.0       47\n",
      "3.0       67\n",
      "4.0      196\n",
      "5.0      586\n",
      "6.0     1666\n",
      "7.0     2146\n",
      "8.0     1168\n",
      "9.0      363\n",
      "10.0      82\n",
      "11.0      17\n",
      "12.0       7\n",
      "13.0       2\n",
      "14.0       2\n",
      "17.0       1\n",
      "98.0       1\n",
      "99.0      94\n",
      "Name: birthwgt_lb1, dtype: int64\n"
     ]
    }
   ],
   "source": [
    "#Do a deeper dive into pounds and ounces\n",
    "#Select the desired columns\n",
    "pounds = nsfg['birthwgt_lb1']\n",
    "ounces = nsfg['birthwgt_oz1']\n",
    "\n",
    "#Sort and have a look:\n",
    "print(pounds.value_counts().sort_index())\n"
   ]
  },
  {
   "cell_type": "code",
   "execution_count": 6,
   "id": "ff275c33",
   "metadata": {},
   "outputs": [
    {
     "name": "stdout",
     "output_type": "stream",
     "text": [
      "0.0        6\n",
      "1.0       34\n",
      "2.0       47\n",
      "3.0       67\n",
      "4.0      196\n",
      "5.0      586\n",
      "6.0     1666\n",
      "7.0     2146\n",
      "8.0     1168\n",
      "9.0      363\n",
      "10.0      82\n",
      "11.0      17\n",
      "12.0       7\n",
      "13.0       2\n",
      "14.0       2\n",
      "17.0       1\n",
      "Name: birthwgt_lb1, dtype: int64\n",
      "count    6355.000000\n",
      "mean        7.120978\n",
      "std         1.422236\n",
      "min         0.000000\n",
      "25%         6.375000\n",
      "50%         7.187500\n",
      "75%         8.000000\n",
      "max        17.937500\n",
      "dtype: float64\n"
     ]
    }
   ],
   "source": [
    "#Deeper dive 2\n",
    "#remove the 98's and 99's\n",
    "pounds = pounds.replace([98, 99], np.nan)\n",
    "ounces = ounces.replace([98, 99], np.nan)\n",
    "\n",
    "#resort and have another look\n",
    "print(pounds.value_counts().sort_index())\n",
    "\n",
    "#lastly lets convert the punds and ounces into a total\n",
    "birth_weight = pounds + ounces / 16\n",
    "print(birth_weight.describe())"
   ]
  },
  {
   "cell_type": "code",
   "execution_count": 9,
   "id": "237b2bf4",
   "metadata": {},
   "outputs": [
    {
     "data": {
      "text/plain": [
       "<function matplotlib.pyplot.show(close=None, block=None)>"
      ]
     },
     "execution_count": 9,
     "metadata": {},
     "output_type": "execute_result"
    },
    {
     "data": {
      "image/png": "[encoded data removed]",
      "text/plain": [
       "<Figure size 432x288 with 1 Axes>"
      ]
     },
     "metadata": {
      "needs_background": "light"
     },
     "output_type": "display_data"
    }
   ],
   "source": [
    "#Lets plot the results of birthweight for a look\n",
    "plt.hist(birth_weight.dropna(), bins = 30)\n",
    "plt.xlabel('Birth weight (lb)')\n",
    "plt.ylabel('Fraction of births')\n",
    "plt.show"
   ]
  },
  {
   "cell_type": "code",
   "execution_count": 12,
   "id": "7aeeb719",
   "metadata": {},
   "outputs": [
    {
     "name": "stdout",
     "output_type": "stream",
     "text": [
      "0    False\n",
      "1     True\n",
      "2     True\n",
      "3     True\n",
      "4    False\n",
      "Name: prglngth, dtype: bool\n",
      "3742\n",
      "0.39987176747168196\n",
      "5.577598314606742\n",
      "7.372323879231473\n"
     ]
    }
   ],
   "source": [
    "#Lets do some filtering for practice\n",
    "#Lets define preterm pregnancies as pregnancies before 37 weeks\n",
    "preterm = nsfg['prglngth'] < 37\n",
    "#Some testing\n",
    "print(preterm.head())\n",
    "print(preterm.sum())\n",
    "print(preterm.mean())\n",
    "\n",
    "#ok so filter out the preterm and the full term\n",
    "preterm_weight = birth_weight[preterm]\n",
    "print(preterm_weight.mean())\n",
    "\n",
    "full_term_weight = birth_weight[~preterm]\n",
    "print(full_term_weight.mean())"
   ]
  },
  {
   "cell_type": "code",
   "execution_count": null,
   "id": "c3e4c183",
   "metadata": {},
   "outputs": [],
   "source": [
    "#PART 2\n",
    "#Distributions"
   ]
  }
 ],
 "metadata": {
  "kernelspec": {
   "display_name": "Python 3",
   "language": "python",
   "name": "python3"
  },
  "language_info": {
   "codemirror_mode": {
    "name": "ipython",
    "version": 3
   },
   "file_extension": ".py",
   "mimetype": "text/x-python",
   "name": "python",
   "nbconvert_exporter": "python",
   "pygments_lexer": "ipython3",
   "version": "3.8.8"
  }
 },
 "nbformat": 4,
 "nbformat_minor": 5
}
