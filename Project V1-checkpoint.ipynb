{
 "cells": [
  {
   "cell_type": "code",
   "execution_count": 3,
   "id": "8389eb69",
   "metadata": {},
   "outputs": [],
   "source": [
    "import yfinance as yf\n",
    "from datetime import datetime"
   ]
  },
  {
   "cell_type": "code",
   "execution_count": 16,
   "id": "9c69309e",
   "metadata": {},
   "outputs": [
    {
     "name": "stdout",
     "output_type": "stream",
     "text": [
      "[*********************100%***********************]  1 of 1 completed\n",
      "[*********************100%***********************]  1 of 1 completed\n",
      "[*********************100%***********************]  1 of 1 completed\n",
      "[*********************100%***********************]  1 of 1 completed\n",
      "[*********************100%***********************]  1 of 1 completed\n",
      "[*********************100%***********************]  1 of 1 completed\n",
      "[*********************100%***********************]  1 of 1 completed\n",
      "[*********************100%***********************]  1 of 1 completed\n",
      "[*********************100%***********************]  1 of 1 completed\n",
      "[*********************100%***********************]  1 of 1 completed\n",
      "[*********************100%***********************]  1 of 1 completed\n"
     ]
    }
   ],
   "source": [
    "'''\n",
    "Importing the required data from Yahoo Finance\n",
    "Want to look at a few different asset classes\n",
    "1.Stocks - Apple stock, S&P stock index\n",
    "2.Government bonds - quoted as rates 5yr, 10yr and 30yr\n",
    "3.Government bond futures\n",
    "4.FX - looking at USDJPY and USDEUR\n",
    "5.Looking at two Fidelity Funds\n",
    "'''\n",
    "ending = datetime.now()\n",
    "starting = datetime(ending.year - 1, ending.month, ending.day)\n",
    "#Apple\n",
    "Apple = yf.download('AAPL', starting, ending) \n",
    "#S&P 500\n",
    "SP = yf.download('^GSPC', starting, ending)\n",
    "#US Treasury 5yr\n",
    "FVX = yf.download('^FVX', starting, ending)\n",
    "#US Treasury 10yr\n",
    "TNX = yf.download('^TNX', starting, ending)\n",
    "#US Treasury 30yr\n",
    "TYX = yf.download('^TYX', starting, ending)\n",
    "#US Treasury 5yr future\n",
    "ZFF = yf.download('ZF=F', starting, ending)\n",
    "#US Treasury 10yr future\n",
    "ZNF = yf.download('ZN=F', starting, ending)\n",
    "#USDJPY\n",
    "USDJPY = yf.download('JPY=X', starting, ending)\n",
    "#EURUSD\n",
    "EURUSD = yf.download('EURUSD=X', starting, ending)\n",
    "#FIBD\n",
    "FIBD = yf.download('0P00019MKF', starting, ending)\n",
    "#FEDB\n",
    "FEDB = yf.download('0P00017HVB', starting, ending)"
   ]
  },
  {
   "cell_type": "code",
   "execution_count": 20,
   "id": "f6886738",
   "metadata": {},
   "outputs": [
    {
     "name": "stdout",
     "output_type": "stream",
     "text": [
      "             Open        High         Low       Close   Adj Close  Volume\n",
      "count  121.000000  121.000000  121.000000  121.000000  121.000000   121.0\n",
      "mean    10.821570   10.821570   10.821570   10.821570   10.821570     0.0\n",
      "std      0.380675    0.380675    0.380675    0.380675    0.380675     0.0\n",
      "min     10.210000   10.210000   10.210000   10.210000   10.210000     0.0\n",
      "25%     10.500000   10.500000   10.500000   10.500000   10.500000     0.0\n",
      "50%     10.770000   10.770000   10.770000   10.770000   10.770000     0.0\n",
      "75%     10.990000   10.990000   10.990000   10.990000   10.990000     0.0\n",
      "max     11.680000   11.680000   11.680000   11.680000   11.680000     0.0\n",
      "<class 'pandas.core.frame.DataFrame'>\n",
      "DatetimeIndex: 121 entries, 2022-03-14 to 2022-09-02\n",
      "Data columns (total 6 columns):\n",
      " #   Column     Non-Null Count  Dtype  \n",
      "---  ------     --------------  -----  \n",
      " 0   Open       121 non-null    float64\n",
      " 1   High       121 non-null    float64\n",
      " 2   Low        121 non-null    float64\n",
      " 3   Close      121 non-null    float64\n",
      " 4   Adj Close  121 non-null    float64\n",
      " 5   Volume     121 non-null    int64  \n",
      "dtypes: float64(5), int64(1)\n",
      "memory usage: 6.6 KB\n",
      "None\n"
     ]
    }
   ],
   "source": [
    "print(FIBD.describe())\n",
    "print(FIBD.info())\n"
   ]
  },
  {
   "cell_type": "code",
   "execution_count": 22,
   "id": "1d907cb6",
   "metadata": {},
   "outputs": [
    {
     "data": {
      "text/plain": [
       "Open         0\n",
       "High         0\n",
       "Low          0\n",
       "Close        0\n",
       "Adj Close    0\n",
       "Volume       0\n",
       "dtype: int64"
      ]
     },
     "execution_count": 22,
     "metadata": {},
     "output_type": "execute_result"
    }
   ],
   "source": [
    "'''\n",
    "Explatory Analysis\n",
    "Need to loop through each one - ned to look at this again\n",
    "'''\n",
    "'''\n",
    "instrument_list = ['Apple', 'SP', 'FVX', 'TNX', 'TYX', 'ZFF', 'ZNF', 'USDJPY', 'EURUSD', 'FIBD', 'FEDB']\n",
    "\n",
    "for entity in instrument_list:\n",
    "    print(entity + ': /n')\n",
    "    print(entity['Adj Close'].describe())\n",
    "    print('----------------------- /n')\n",
    "'''\n",
    "    \n",
    "'''\n",
    "Checking the nulls\n",
    "Need to create a loop\n",
    "'''\n",
    "\n",
    "Apple.isnull().sum()"
   ]
  }
 ],
 "metadata": {
  "kernelspec": {
   "display_name": "Python 3",
   "language": "python",
   "name": "python3"
  },
  "language_info": {
   "codemirror_mode": {
    "name": "ipython",
    "version": 3
   },
   "file_extension": ".py",
   "mimetype": "text/x-python",
   "name": "python",
   "nbconvert_exporter": "python",
   "pygments_lexer": "ipython3",
   "version": "3.8.8"
  }
 },
 "nbformat": 4,
 "nbformat_minor": 5
}
